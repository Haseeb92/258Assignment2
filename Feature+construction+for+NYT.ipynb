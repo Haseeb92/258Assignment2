{
 "cells": [
  {
   "cell_type": "code",
   "execution_count": 1,
   "metadata": {
    "collapsed": true
   },
   "outputs": [],
   "source": [
    "import nltk, os, matplotlib as mlt, sys\n",
    "from matplotlib import pyplot as plt\n",
    "import sklearn as sk, pandas as pd, numpy as np\n",
    "import re, string as str\n",
    "from nltk.corpus import stopwords\n",
    "import time\n",
    "os.chdir(\"E:\\\\CSE 258\\\\Homework\\\\Assignment2\\\\\")\n",
    "# nltk.download('punkt')\n",
    "# nltk.download(\"stopwords\")\n",
    "# nltk.download(\"wordnet\")"
   ]
  },
  {
   "cell_type": "code",
   "execution_count": 5,
   "metadata": {
    "collapsed": true
   },
   "outputs": [],
   "source": [
    "df = pd.read_csv(\"nyt_unclean.txt\", encoding='utf-8')"
   ]
  },
  {
   "cell_type": "code",
   "execution_count": 7,
   "metadata": {},
   "outputs": [
    {
     "name": "stdout",
     "output_type": "stream",
     "text": [
      "Times Square, the famed Manhattan crossroads, is where Americans often mark moments of great change, and so, too, as Wednesday dawned. But instead of its usual buzz and bustle, it was filled with an eerie silence.The costumed cartoon characters melted away. There was no music or sound from the news broadcast on the giant screens. And thousands of people, their faces illuminated by Times Square’s flashing advertisements, stood watching and waiting as Donald J. Trump steamrollered toward victory over Hillary Clinton.“Interesting evening, isn’t it?” said Graham Simpson, an Englishman who had come to New York last weekend to run a marathon. “The world seems to have turned on its head.”Since arriving in the United States in July to cover this tumultuous election from a foreigner’s perspective, I have sought to understand voters’ motivations — particularly when it came to Mr. Trump, an unorthodox outsider who had upended the political system. After traveling the country, I spent the final day of a surreal journey in New York City, that anomalous financial and cultural capital that is home to Mr. Trump.I started in Jamaica Estates where Mr. Trump grew up in the center of Queens — an enclave of mock Tudor houses and middle-class privilege that is one of the most ethnically diverse places in the country. There are two houses to visit: a relatively modest home where Mr. Trump spent his early years, and, a block away, a mansion with curling pathways and soaring Roman pillars where the family moved as his father’s real estate business boomed.A few streets away, a man stood on his lawn smoking a cigarette. He had not bothered to vote — “Politicians, they’re all crooks,” he said — but he thought Mr. Trump had a few things right: “Nothing’s made here any more,” he complained. “It’s all China, Pakistan, the Philippines.”A “For Sale” sign was posted outside the modest Trump house on Wareham Place; the next-door neighbor said it was priced at $1.65 million, considerably more than market value because of the Trump factor. She was tired of people knocking on her door to ask about it, and said that if Mr. Trump won — this was Tuesday afternoon when that still seemed like the longest of long shots — “we’re moving to Canada.”The local polling station, in the basement of a Catholic church, offered a range of opinions.Ganesh Ramnares, still in his doorman’s suit, had no problem with Mr. Trump’s harsh speech toward immigrants. He came from Guyana 31 years ago; why should new arrivals be allowed to break the rules? He also worried about terrorists who could slip into the country.“That’s why you should get a closed border and a damned high wall, twice as big as this building,” he said, pointing to the church spire. “Mr. Trump spoke that same language as me, and that’s why I gave him my vote.”Moments later, Mohammad Rahman, a real estate agent born in Bangladesh, said he had voted for Mrs. Clinton, and that his children, ages 12 and 7, were deeply worried about a Trump presidency.“A lot of Muslim kids are saying, ‘Mommy, if he is elected, will we be kicked out?’” he said. “If you read history, it starts like that.”“We are confused,” he continued. “If he gets elected, what will he do? Maybe nothing. Or maybe something really bad.” He shrugged, then continued home.I left Queens for Brooklyn to meet Dany L. Esquilin, a Republican I met in the first week of this assignment, aboard a train to the Republican National Convention in Cleveland.Mr. Esquilin was not a stereotypical Trump supporter. His parents were born in Puerto Rico, he is black and he had once been a Democrat. (Then again, so had Mr. Trump.) A retired private investigator, Mr. Esquilin worked to marshal Republican votes from Jews, Russians and Chinese-Americans.As the train rattled through the night, we holed up in the restaurant car downing a few bottles of wine with Mark, a gay dancer with a broken arm, and Liz, a Korean-American with a scatty sensibility. It was good-natured argument about politics that seemed to encapsulate the great conversation that Americans were known for before these polarized times.When I caught back up with him on Tuesday, Mr. Esquilin was confident of a Trump victory. It was not about race, he said, pointing to the powerful anti-establishment sentiment that Mr. Trump has stirred in hardscrabble neighborhoods, including those where minorities live.“Working people are tired,” he said at the entrance of a polling station. “They’re tired of the corruption, of the entitlement, of seeing their work go for naught. They’re just basically saying, ‘Enough is enough.’ ”Later, in Times Square, as the results streamed in, foreigners drew comparisons with home: an Austrian with the rise of the far-right in his country; Britons with Brexit; a Frenchwoman with Marine Le Pen, the nationalist candidate who is running for the presidency next year.Some Americans were disconsolate. I found Anthony Agli, 19, wrapped in an American flag and wearing a dismayed look. He had come in from Connecticut expecting to celebrate a Clinton victory. “Not this,” he said.“We’re practically a joke to the rest of the world,” Mr. Agli continued. “I feel a lot of the hidden racism in our country is coming out because of him. He knows how to run a business. He doesn’t know how to run a country.”I trekked about 10 blocks to check out Mr. Trump’s victory party, but the police had sealed off 54th Street as a convoy of black S.U.V.s with flashing lights ferried the president-elect and his entourage to the hotel where he would deliver his acceptance speech. So I ended up, suitably, at an Irish bar around the corner called The Irish Pub, where I found a raucous scene.As the screen showed Mr. Trump say, “When I, as president,” one man stared at the screen in sheer delight while another turned to give everyone high-fives. The patrons, mostly men, danced and kissed; a bartender pleaded with one to drop a chair he held aloft. Beer was spilled.“Now we have a boss,” said Michael Sottile, a real estate agent.Colin Brady, a police detective and former Marine, said Americans felt low. They went to war in other countries and failed. When he traveled in Europe, Mr. Brady said, he marveled at the fast trains and better roads.“Although he’s a billionaire, people saw him as the underdog,” he said of Mr. Trump. “A billionaire man of the people.”Another former Marine, Tim Halligan, said that he had “never had my heart tremble like this since my wedding day,” adding, “We’ve gotten our country back.”I left them and walked back to my apartment. It was 4 a.m., and a chant rang out in the streets.“Trump, Trump, Trump!” they shouted.“Trump, Trump, Trump!”\n"
     ]
    }
   ],
   "source": [
    "df.text = df.text.str.replace(\"\\n\", \"\")\n",
    "print df.text[0]"
   ]
  },
  {
   "cell_type": "code",
   "execution_count": 8,
   "metadata": {
    "collapsed": true
   },
   "outputs": [],
   "source": [
    "df['nExclams'] =  df.text.str.count(\"!\")"
   ]
  },
  {
   "cell_type": "code",
   "execution_count": 9,
   "metadata": {
    "collapsed": true
   },
   "outputs": [],
   "source": [
    "def count_caps(s):\n",
    "    return np.sum([x.isupper() for x in s.split()])\n",
    "\n",
    "df['Capital Words'] = df.text.apply(count_caps)"
   ]
  },
  {
   "cell_type": "code",
   "execution_count": 11,
   "metadata": {},
   "outputs": [],
   "source": [
    "# Tokenizing text into bags of words\n",
    "from nltk.tokenize import word_tokenize\n",
    "def tokenize_s(s):\n",
    "    return word_tokenize(s)#.decode('utf-8'))\n",
    "df.text = df.text.apply(tokenize_s)"
   ]
  },
  {
   "cell_type": "code",
   "execution_count": 12,
   "metadata": {
    "collapsed": true
   },
   "outputs": [],
   "source": [
    "# Removing punctuation\n",
    "import regex as re\n",
    "import string\n",
    "def remove_puncs(old_s):\n",
    "    new_s = []\n",
    "    for token in old_s:\n",
    "        new_token = re.sub(ur\"[0-9]+|\\p{P}+\", u\"\", token)\n",
    "        if not new_token == u\"\":\n",
    "            new_s.append(new_token)\n",
    "    return new_s\n",
    "\n",
    "df.text = df.text.apply(remove_puncs)"
   ]
  },
  {
   "cell_type": "code",
   "execution_count": 14,
   "metadata": {},
   "outputs": [
    {
     "name": "stderr",
     "output_type": "stream",
     "text": [
      "C:\\ProgramData\\Anaconda2\\lib\\site-packages\\ipykernel_launcher.py:10: SettingWithCopyWarning: \n",
      "A value is trying to be set on a copy of a slice from a DataFrame\n",
      "\n",
      "See the caveats in the documentation: http://pandas.pydata.org/pandas-docs/stable/indexing.html#indexing-view-versus-copy\n",
      "  # Remove the CWD from sys.path while we load stuff.\n"
     ]
    },
    {
     "name": "stdout",
     "output_type": "stream",
     "text": [
      "0\n",
      "500\n",
      "1000\n",
      "1500\n",
      "2000\n",
      "2500\n",
      "3000\n",
      "3500\n",
      "4000\n",
      "4500\n",
      "5000\n",
      "5500\n",
      "6000\n",
      "6500\n",
      "7000\n",
      "7500\n",
      "8000\n",
      "8500\n",
      "9000\n",
      "9500\n",
      "10000\n",
      "10500\n",
      "11000\n",
      "11500\n",
      "12000\n",
      "12500\n"
     ]
    }
   ],
   "source": [
    "# Cleaning text of stopwords\n",
    "def remove_stopwords(old_s):\n",
    "    new_s = []\n",
    "    for word in old_s:\n",
    "        if not word in stopwords.words('english'):\n",
    "            new_s.append(word)\n",
    "    return new_s\n",
    "\n",
    "for i in range(len(df.text)):\n",
    "    df.text[i] = remove_stopwords(df.text[i])\n",
    "    if i%500 == 0:\n",
    "        print(i)"
   ]
  },
  {
   "cell_type": "code",
   "execution_count": 17,
   "metadata": {},
   "outputs": [],
   "source": [
    "# Saving it for the future use\n",
    "df.to_csv(\"NYT_Tokenized and stopwords removed.csv\", index = False, encoding = 'utf-8')"
   ]
  },
  {
   "cell_type": "code",
   "execution_count": 22,
   "metadata": {},
   "outputs": [
    {
     "name": "stderr",
     "output_type": "stream",
     "text": [
      "C:\\ProgramData\\Anaconda2\\lib\\site-packages\\ipykernel_launcher.py:18: SettingWithCopyWarning: \n",
      "A value is trying to be set on a copy of a slice from a DataFrame\n",
      "\n",
      "See the caveats in the documentation: http://pandas.pydata.org/pandas-docs/stable/indexing.html#indexing-view-versus-copy\n"
     ]
    },
    {
     "name": "stdout",
     "output_type": "stream",
     "text": [
      "(0, 'th doc processed in 0.273000001907 seconds from the start')\n",
      "(500, 'th doc processed in 118.343999863 seconds from the start')\n",
      "(1000, 'th doc processed in 237.286999941 seconds from the start')\n",
      "(1500, 'th doc processed in 354.562000036 seconds from the start')\n",
      "(2000, 'th doc processed in 473.812999964 seconds from the start')\n",
      "(2500, 'th doc processed in 594.147000074 seconds from the start')\n",
      "(3000, 'th doc processed in 716.237999916 seconds from the start')\n",
      "(3500, 'th doc processed in 839.835999966 seconds from the start')\n",
      "(4000, 'th doc processed in 963.142999887 seconds from the start')\n",
      "(4500, 'th doc processed in 1092.49499989 seconds from the start')\n",
      "(5000, 'th doc processed in 1223.49099994 seconds from the start')\n",
      "(5500, 'th doc processed in 1347.11999989 seconds from the start')\n",
      "(6000, 'th doc processed in 1474.09899998 seconds from the start')\n",
      "(6500, 'th doc processed in 1600.2019999 seconds from the start')\n",
      "(7000, 'th doc processed in 1728.4519999 seconds from the start')\n",
      "(7500, 'th doc processed in 1855.57399988 seconds from the start')\n",
      "(8000, 'th doc processed in 1983.30799985 seconds from the start')\n",
      "(8500, 'th doc processed in 2112.31599998 seconds from the start')\n",
      "(9000, 'th doc processed in 2242.96300006 seconds from the start')\n",
      "(9500, 'th doc processed in 2375.97399998 seconds from the start')\n",
      "(10000, 'th doc processed in 2511.61800003 seconds from the start')\n",
      "(10500, 'th doc processed in 2646.41100001 seconds from the start')\n",
      "(11000, 'th doc processed in 2779.602 seconds from the start')\n",
      "(11500, 'th doc processed in 2918.76399994 seconds from the start')\n",
      "(12000, 'th doc processed in 3053.97300005 seconds from the start')\n"
     ]
    }
   ],
   "source": [
    "# Stemming and Lemmatizing\n",
    "from nltk.stem.porter import PorterStemmer\n",
    "from nltk.stem.snowball import SnowballStemmer\n",
    "from nltk.stem.wordnet import WordNetLemmatizer\n",
    "\n",
    "porter = PorterStemmer()\n",
    "snowball = SnowballStemmer('english')\n",
    "wordnet = WordNetLemmatizer()\n",
    "\n",
    "tracer = np.arange(25)*500\n",
    "start_time = time.time()\n",
    "for i in range(len(df.text)):\n",
    "    final_doc = []\n",
    "    for word in df.text[i]:\n",
    "        word = porter.stem(word)\n",
    "        word = wordnet.lemmatize(word)\n",
    "        final_doc.append(word)\n",
    "    df.text[i] = final_doc\n",
    "    if i in tracer:\n",
    "        print(i,\"th doc processed in %s seconds from the start\"%(time.time() - start_time))"
   ]
  },
  {
   "cell_type": "code",
   "execution_count": 23,
   "metadata": {
    "collapsed": true
   },
   "outputs": [],
   "source": [
    "# Saving it for the future use\n",
    "df.to_csv(\"NYT_Tokenized_stemmed_lemmatized with stopwords removed.csv\", index = False, encoding = 'utf-8')"
   ]
  },
  {
   "cell_type": "code",
   "execution_count": 24,
   "metadata": {},
   "outputs": [
    {
     "data": {
      "image/png": "[encoded data removed]",
      "text/plain": [
       "<matplotlib.figure.Figure at 0xc306b00>"
      ]
     },
     "metadata": {},
     "output_type": "display_data"
    }
   ],
   "source": [
    "lengths = []\n",
    "for doc in df.text:\n",
    "    lengths.append(len(doc))\n",
    "\n",
    "x = range(len(df.text))\n",
    "plt.plot(x, lengths)\n",
    "plt.show()"
   ]
  }
 ],
 "metadata": {
  "kernelspec": {
   "display_name": "Python 2",
   "language": "python",
   "name": "python2"
  },
  "language_info": {
   "codemirror_mode": {
    "name": "ipython",
    "version": 2
   },
   "file_extension": ".py",
   "mimetype": "text/x-python",
   "name": "python",
   "nbconvert_exporter": "python",
   "pygments_lexer": "ipython2",
   "version": "2.7.13"
  }
 },
 "nbformat": 4,
 "nbformat_minor": 2
}
