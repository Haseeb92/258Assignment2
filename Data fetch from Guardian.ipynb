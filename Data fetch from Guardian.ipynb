{
 "cells": [
  {
   "cell_type": "code",
   "execution_count": 80,
   "metadata": {},
   "outputs": [],
   "source": [
    "from datetime import date,timedelta\n",
    "import json"
   ]
  },
  {
   "cell_type": "code",
   "execution_count": 172,
   "metadata": {},
   "outputs": [],
   "source": [
    "dBase=[]\n",
    "d1 = date(2016,9,26)\n",
    "d2 = date(2016,11,26)\n",
    "delta=d2-d1\n",
    "for i in range(0,delta.days+1):\n",
    "    fNameend=str(d1+timedelta(days=i))+'.json'\n",
    "    with open('C:/Users/Surya/Desktop/Assignemnt 2/GuardianArticles/'+fNameend) as json_data:\n",
    "        d=json.load(json_data)\n",
    "    json_data.close()\n",
    "    dBase.append(d)\n"
   ]
  },
  {
   "cell_type": "code",
   "execution_count": 173,
   "metadata": {},
   "outputs": [],
   "source": [
    "toCSV=[]\n",
    "for i in dBase:\n",
    "    for d in i:\n",
    "        csvDict=dict()\n",
    "        csvDict['title']=bsoup(d['fields']['headline'],'lxml').get_text()\n",
    "        csvDict['text']=bsoup(d['fields']['body'],'lxml').get_text()\n",
    "        csvDict['class']=str(0)\n",
    "        csvDict['date']=bsoup(d['fields']['firstPublicationDate'],'lxml').get_text()\n",
    "        toCSV.append(csvDict)\n",
    "    \n",
    "        "
   ]
  },
  {
   "cell_type": "code",
   "execution_count": 174,
   "metadata": {},
   "outputs": [
    {
     "data": {
      "text/plain": [
       "dict_keys(['title', 'text', 'class', 'date'])"
      ]
     },
     "execution_count": 174,
     "metadata": {},
     "output_type": "execute_result"
    }
   ],
   "source": [
    "toCSV[0].keys()"
   ]
  },
  {
   "cell_type": "code",
   "execution_count": 175,
   "metadata": {},
   "outputs": [
    {
     "data": {
      "text/plain": [
       "'\\nimport codecs\\ndata_csv = codecs.open(\"C:/Users/Surya/Desktop/Assignemnt 2/GuardianUncleaned.csv\", \"w\",\\'utf-8\\')\\ndata_csv.write(\"title,text,class,date\\n\")\\nfor d in toCSV:\\n    data_csv.write(bsoup(d[\"title\"],\\'lxml\\').get_text().replace() + \",\" + bsoup(d[\"text\"],\\'lxml\\').get_text() + \",\" +str(d[\"class\"])+ \",\"+ d[\"date\"]+\\'\\n\\')\\ndata_csv.close()\\n'"
      ]
     },
     "execution_count": 175,
     "metadata": {},
     "output_type": "execute_result"
    }
   ],
   "source": [
    "\n",
    "import csv\n",
    "keys = toCSV[0].keys()\n",
    "with codecs.open('C:/Users/Surya/Desktop/Assignemnt 2/GuardianUncleaned.csv', 'w','utf-8') as output_file:\n",
    "    dict_writer = csv.DictWriter(output_file, keys)\n",
    "    dict_writer.writeheader()\n",
    "    dict_writer.writerows(toCSV)\n",
    "output_file.close()\n"
   ]
  },
  {
   "cell_type": "code",
   "execution_count": 176,
   "metadata": {
    "collapsed": true
   },
   "outputs": [],
   "source": [
    "import winsound\n",
    "duration = 1000  # millisecond\n",
    "freq = 440  # Hz\n",
    "winsound.Beep(freq, duration)"
   ]
  },
  {
   "cell_type": "code",
   "execution_count": null,
   "metadata": {
    "collapsed": true
   },
   "outputs": [],
   "source": []
  }
 ],
 "metadata": {
  "kernelspec": {
   "display_name": "Python 3",
   "language": "python",
   "name": "python3"
  },
  "language_info": {
   "codemirror_mode": {
    "name": "ipython",
    "version": 3
   },
   "file_extension": ".py",
   "mimetype": "text/x-python",
   "name": "python",
   "nbconvert_exporter": "python",
   "pygments_lexer": "ipython3",
   "version": "3.6.2"
  }
 },
 "nbformat": 4,
 "nbformat_minor": 2
}
