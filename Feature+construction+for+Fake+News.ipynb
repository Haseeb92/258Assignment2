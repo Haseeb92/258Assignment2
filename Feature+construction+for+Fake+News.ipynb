{
 "cells": [
  {
   "cell_type": "code",
   "execution_count": 48,
   "metadata": {},
   "outputs": [],
   "source": [
    "import nltk, os, matplotlib as mlt, sys\n",
    "from matplotlib import pyplot as plt\n",
    "import sklearn as sk, pandas as pd, numpy as np\n",
    "import re, string as str\n",
    "from nltk.corpus import stopwords\n",
    "import time\n",
    "os.chdir(\"E:\\\\CSE 258\\\\Homework\\\\Assignment2\\\\fake-news\")\n",
    "# nltk.download('punkt')\n",
    "# nltk.download(\"stopwords\")\n",
    "# nltk.download(\"wordnet\")"
   ]
  },
  {
   "cell_type": "code",
   "execution_count": 2,
   "metadata": {
    "collapsed": true
   },
   "outputs": [],
   "source": [
    "df = pd.read_csv(\"FakeNews_Clean_All.csv\")"
   ]
  },
  {
   "cell_type": "code",
   "execution_count": 4,
   "metadata": {},
   "outputs": [
    {
     "data": {
      "text/plain": [
       "'Print They should pay all the back all the money plus interest. The entire family and everyone who came in with them need to be deported asap. Why did it take two years to bust them? Here we go again another group stealing from the government and taxpayers! A group of Somalis stole over four million in government benefits over just 10 months! Weve reported on numerous cases like this one where the Muslim refugees/immigrants commit fraud by scamming our systemIts way out of control! More Related'"
      ]
     },
     "execution_count": 4,
     "metadata": {},
     "output_type": "execute_result"
    }
   ],
   "source": [
    "df.text = df.text.str.replace(\"\\n\", \"\")\n",
    "df.text[0]"
   ]
  },
  {
   "cell_type": "code",
   "execution_count": 5,
   "metadata": {
    "collapsed": true
   },
   "outputs": [],
   "source": [
    "df['nExclams'] =  df.text.str.count(\"!\")"
   ]
  },
  {
   "cell_type": "code",
   "execution_count": 6,
   "metadata": {
    "collapsed": true
   },
   "outputs": [],
   "source": [
    "def count_caps(s):\n",
    "    return np.sum([x.isupper() for x in s.split()])\n",
    "\n",
    "df['Capital Words'] = df.text.apply(count_caps)"
   ]
  },
  {
   "cell_type": "code",
   "execution_count": 7,
   "metadata": {
    "collapsed": true
   },
   "outputs": [],
   "source": [
    "# Tokenizing text into bags of words\n",
    "from nltk.tokenize import word_tokenize\n",
    "def tokenize_s(s):\n",
    "    return word_tokenize(s.decode('utf-8'))\n",
    "df.text = df.text.apply(tokenize_s)"
   ]
  },
  {
   "cell_type": "code",
   "execution_count": 8,
   "metadata": {
    "collapsed": true
   },
   "outputs": [],
   "source": [
    "# Removing punctuation\n",
    "import regex as re\n",
    "import string\n",
    "def remove_puncs(old_s):\n",
    "    new_s = []\n",
    "    for token in old_s:\n",
    "        new_token = re.sub(ur\"[0-9]+|\\p{P}+\", u\"\", token)\n",
    "        if not new_token == u\"\":\n",
    "            new_s.append(new_token)\n",
    "    return new_s\n",
    "\n",
    "df.text = df.text.apply(remove_puncs)"
   ]
  },
  {
   "cell_type": "code",
   "execution_count": 15,
   "metadata": {},
   "outputs": [
    {
     "name": "stderr",
     "output_type": "stream",
     "text": [
      "C:\\ProgramData\\Anaconda2\\lib\\site-packages\\ipykernel_launcher.py:10: SettingWithCopyWarning: \n",
      "A value is trying to be set on a copy of a slice from a DataFrame\n",
      "\n",
      "See the caveats in the documentation: http://pandas.pydata.org/pandas-docs/stable/indexing.html#indexing-view-versus-copy\n",
      "  # Remove the CWD from sys.path while we load stuff.\n"
     ]
    },
    {
     "name": "stdout",
     "output_type": "stream",
     "text": [
      "0\n",
      "500\n",
      "1000\n",
      "1500\n",
      "2000\n",
      "2500\n",
      "3000\n",
      "3500\n",
      "4000\n",
      "4500\n",
      "5000\n",
      "5500\n",
      "6000\n",
      "6500\n",
      "7000\n",
      "7500\n",
      "8000\n",
      "8500\n",
      "9000\n",
      "9500\n",
      "10000\n",
      "10500\n",
      "11000\n",
      "11500\n"
     ]
    }
   ],
   "source": [
    "# Cleaning text of stopwords\n",
    "def remove_stopwords(old_s):\n",
    "    new_s = []\n",
    "    for word in old_s:\n",
    "        if not word in stopwords.words('english'):\n",
    "            new_s.append(word)\n",
    "    return new_s\n",
    "\n",
    "for i in range(len(df.text)):\n",
    "    df.text[i] = remove_stopwords(df.text[i])\n",
    "    if i%500 == 0:\n",
    "        print(i)"
   ]
  },
  {
   "cell_type": "code",
   "execution_count": 16,
   "metadata": {
    "collapsed": true
   },
   "outputs": [],
   "source": [
    "# Saving it for the future use\n",
    "df.to_csv(\"FakeNews_Tokenized and stopwords removed.csv\", index = False)"
   ]
  },
  {
   "cell_type": "code",
   "execution_count": 40,
   "metadata": {},
   "outputs": [
    {
     "name": "stderr",
     "output_type": "stream",
     "text": [
      "C:\\ProgramData\\Anaconda2\\lib\\site-packages\\ipykernel_launcher.py:18: SettingWithCopyWarning: \n",
      "A value is trying to be set on a copy of a slice from a DataFrame\n",
      "\n",
      "See the caveats in the documentation: http://pandas.pydata.org/pandas-docs/stable/indexing.html#indexing-view-versus-copy\n"
     ]
    },
    {
     "name": "stdout",
     "output_type": "stream",
     "text": [
      "(0, 'th doc processed in 2.68300008774 seconds from the start')\n",
      "(500, 'th doc processed in 117.42200017 seconds from the start')\n",
      "(1000, 'th doc processed in 231.327000141 seconds from the start')\n",
      "(1500, 'th doc processed in 349.572000027 seconds from the start')\n",
      "(2000, 'th doc processed in 466.118000031 seconds from the start')\n",
      "(2500, 'th doc processed in 578.06400013 seconds from the start')\n",
      "(3000, 'th doc processed in 690.676000118 seconds from the start')\n",
      "(3500, 'th doc processed in 803.610000134 seconds from the start')\n",
      "(4000, 'th doc processed in 924.231000185 seconds from the start')\n",
      "(4500, 'th doc processed in 1036.59300017 seconds from the start')\n",
      "(5000, 'th doc processed in 1147.65700006 seconds from the start')\n",
      "(5500, 'th doc processed in 1262.23300004 seconds from the start')\n",
      "(6000, 'th doc processed in 1381.44500017 seconds from the start')\n",
      "(6500, 'th doc processed in 1496.00800014 seconds from the start')\n",
      "(7000, 'th doc processed in 1613.95700002 seconds from the start')\n",
      "(7500, 'th doc processed in 1734.18000007 seconds from the start')\n",
      "(8000, 'th doc processed in 1859.04700017 seconds from the start')\n",
      "(8500, 'th doc processed in 1983.25999999 seconds from the start')\n",
      "(9000, 'th doc processed in 2112.2440002 seconds from the start')\n",
      "(9500, 'th doc processed in 2232.38000011 seconds from the start')\n",
      "(10000, 'th doc processed in 2353.81599998 seconds from the start')\n",
      "(10500, 'th doc processed in 2473.81900001 seconds from the start')\n",
      "(11000, 'th doc processed in 2594.52700019 seconds from the start')\n",
      "(11500, 'th doc processed in 2718.29299998 seconds from the start')\n"
     ]
    }
   ],
   "source": [
    "# Stemming and Lemmatizing\n",
    "from nltk.stem.porter import PorterStemmer\n",
    "from nltk.stem.snowball import SnowballStemmer\n",
    "from nltk.stem.wordnet import WordNetLemmatizer\n",
    "\n",
    "porter = PorterStemmer()\n",
    "snowball = SnowballStemmer('english')\n",
    "wordnet = WordNetLemmatizer()\n",
    "\n",
    "tracer = np.arange(25)*500\n",
    "start_time = time.time()\n",
    "for i in range(len(df.text)):\n",
    "    final_doc = []\n",
    "    for word in df.text[i]:\n",
    "        word = porter.stem(word)\n",
    "        word = wordnet.lemmatize(word)\n",
    "        final_doc.append(word)\n",
    "    df.text[i] = final_doc\n",
    "    if i in tracer:\n",
    "        print(i,\"th doc processed in %s seconds from the start\"%(time.time() - start_time))"
   ]
  },
  {
   "cell_type": "code",
   "execution_count": 42,
   "metadata": {},
   "outputs": [],
   "source": [
    "# Saving it for the future use\n",
    "df.to_csv(\"FakeNews_Tokenized and stopwords removed.csv\", index = False)"
   ]
  },
  {
   "cell_type": "code",
   "execution_count": 50,
   "metadata": {},
   "outputs": [
    {
     "data": {
      "image/png": "[encoded data removed]",
      "text/plain": [
       "<matplotlib.figure.Figure at 0x264f1a58>"
      ]
     },
     "metadata": {},
     "output_type": "display_data"
    }
   ],
   "source": [
    "lengths = []\n",
    "for doc in df.text:\n",
    "    lengths.append(len(doc))\n",
    "\n",
    "x = range(len(df.text))\n",
    "plt.plot(x, lengths)\n",
    "plt.show()"
   ]
  },
  {
   "cell_type": "code",
   "execution_count": null,
   "metadata": {
    "collapsed": true
   },
   "outputs": [],
   "source": [
    "sk.feature_extraction.text.TfidfVectorizer()"
   ]
  }
 ],
 "metadata": {
  "kernelspec": {
   "display_name": "Python 3",
   "language": "python",
   "name": "python3"
  },
  "language_info": {
   "codemirror_mode": {
    "name": "ipython",
    "version": 3
   },
   "file_extension": ".py",
   "mimetype": "text/x-python",
   "name": "python",
   "nbconvert_exporter": "python",
   "pygments_lexer": "ipython3",
   "version": "3.5.2"
  }
 },
 "nbformat": 4,
 "nbformat_minor": 2
}
