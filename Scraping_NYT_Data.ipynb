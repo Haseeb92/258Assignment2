{
 "cells": [
  {
   "cell_type": "code",
   "execution_count": null,
   "metadata": {
    "collapsed": true
   },
   "outputs": [],
   "source": [
    "import requests, pymongo, json, time\n",
    "from datetime import datetime\n",
    "from dateutil.relativedelta import relativedelta\n",
    "from bs4 import BeautifulSoup"
   ]
  },
  {
   "cell_type": "markdown",
   "metadata": {},
   "source": [
    "![](http://www.listchallenges.com/f/lists/d7aacdae-74bd-42ff-b397-b73905b5867b.jpg)"
   ]
  },
  {
   "cell_type": "markdown",
   "metadata": {},
   "source": [
    "## Introduction\n",
    "\n",
    "Our goal is to scape as many New York Times articles from their api as possible. The web scraper below is desgined to open a mongo client, where all the downloaded articles will be stored and make api calls. This web scraper will run indefinately until the user termintes the code's calls. "
   ]
  },
  {
   "cell_type": "markdown",
   "metadata": {},
   "source": [
    "## New York Times Web Scraper"
   ]
  },
  {
   "cell_type": "code",
   "execution_count": 1,
   "metadata": {
    "collapsed": false
   },
   "outputs": [],
   "source": [
    "import pymongo\n",
    "\n",
    "client = pymongo.MongoClient()"
   ]
  },
  {
   "cell_type": "code",
   "execution_count": 2,
   "metadata": {
    "collapsed": false
   },
   "outputs": [],
   "source": [
    "import requests\n",
    "import time\n",
    "import json\n",
    "from bs4 import BeautifulSoup\n",
    "\n",
    "def init_mongo_client():\n",
    "    # Initiate Mongo client\n",
    "    client = pymongo.MongoClient()\n",
    "\n",
    "    # Access database created for these articles\n",
    "    db = client.nyt_articles\n",
    "    \n",
    "    # Access collection created for these articles\n",
    "    coll = db.NYT_Articles\n",
    "\n",
    "    # Access articles collection in db and return collection pointer.\n",
    "    return db.articles\n",
    "\n",
    "\n",
    "def call_api(url, payload, p=0):\n",
    "    # Add the 'page' parameter to the payload.\n",
    "    payload['page'] = p\n",
    "\n",
    "    # Get the requested url. Error handling for bad requests should be done in\n",
    "    # the calling function.\n",
    "    return requests.get(url, params=payload)\n",
    "\n",
    "\n",
    "def get_response(r):\n",
    "    # Use json.loads to read the response text\n",
    "    raw = json.loads(r.text)\n",
    "\n",
    "    # Return the meta (hits, etc.) and docs (containing urls'n'stuff) back\n",
    "    return raw['response']['meta'], raw['response']['docs']\n",
    "\n",
    "\n",
    "def get_soup(url):\n",
    "    # Header to be passed in to NYT when scraping article text.\n",
    "    agent  = 'DataWrangling/1.1 (http://zipfianacademy.com; '\n",
    "    agent += 'class@zipfianacademy.com)'\n",
    "    headers = {'user_agent': agent}\n",
    "\n",
    "    # Wrap in a try-except to prevent a maxTry connection error from erroring\n",
    "    # out the program. Return None if there are any issues.\n",
    "    try:\n",
    "        r = requests.get(url, headers=headers)\n",
    "    except:\n",
    "        return None\n",
    "\n",
    "    # Just in case there was a normal error returned. Pass back None.\n",
    "    if r.status_code != 200: return None\n",
    "\n",
    "    # Otherwise return a soupified object containing the url text encoded in\n",
    "    # utf-8. Will toss back errors on some pages without the encoding in place.\n",
    "    return BeautifulSoup(r.text.encode('utf-8'))\n",
    "\n",
    "\n",
    "def get_body_text(docs):\n",
    "\n",
    "    # Grab the url from each document, if it exists, then scrape each url for\n",
    "    # its body text. If we get any errors along the way, continue on to the\n",
    "    # next document / url to be scraped.\n",
    "    result = []\n",
    "    for d in docs:\n",
    "\n",
    "        # Make a copy of the doc's dictionary\n",
    "        doc = d.copy()\n",
    "\n",
    "        # If there's no url (not sure why this happens sometimes) then ditch it\n",
    "        if not doc['web_url']:\n",
    "            continue\n",
    "\n",
    "        # Scrape the doc's url, return a soup object with the url's text.\n",
    "        soup = get_soup(doc['web_url'])\n",
    "        if not soup:\n",
    "            continue\n",
    "\n",
    "        # Find all of the paragraphs with the correct class.\n",
    "        # This class tag is specific to NYT articles.\n",
    "        body = soup.find_all('p', class_= \"story-body-text story-content\")\n",
    "        if not body:\n",
    "            continue\n",
    "\n",
    "        # Join the resulting body paragraphs' text (returned in a list).\n",
    "        doc['body'] = '\\n'.join([x.get_text() for x in body])\n",
    "\n",
    "        print (doc['web_url'])\n",
    "        result.append(doc)\n",
    "\n",
    "    return result\n",
    "\n",
    "\n",
    "def remove_previously_scraped(coll, docs):\n",
    "    # Check to see if the mongo collection already contains the docs returned\n",
    "    # from NYT. Return back a list of the ones that aren't in the collection to\n",
    "    # be scraped.\n",
    "    new_docs = []\n",
    "    for doc in docs:\n",
    "        # Check fo the document id in mongo. If it finds none, append to\n",
    "        # new_docs\n",
    "        cursor = articles.find({'_id': doc['_id']}).limit(1)\n",
    "        if not cursor.count() > 0:\n",
    "            new_docs.append(doc)\n",
    "\n",
    "    if new_docs == []:\n",
    "        return None\n",
    "\n",
    "    return new_docs\n",
    "\n",
    "\n",
    "def get_end_date(dt):\n",
    "    # String-ify the datetime object to YYYMMDD, which the NYT likes.\n",
    "    yr   = str(dt.year)\n",
    "    mon = '0' * (2 - len(str(dt.month))) + str(dt.month)\n",
    "    day = '0' * (2 - len(str(dt.day))) + str(dt.day)\n",
    "    return yr + mon + day\n",
    "\n",
    "\n",
    "def scrape_articles(coll, last_date):\n",
    "    print(API_KEY)\n",
    "    page = 0\n",
    "    while page < 200:\n",
    "        print(get_end_date(last_date))\n",
    "        # Request all of the newest articles matching the search term\n",
    "        payload  = {'sort': 'newest',\n",
    "                    'end_date': get_end_date(last_date),\n",
    "                    'api-key': \"8c8263e4c6c347d685349a55607e82b2\"\n",
    "                   }\n",
    "\n",
    "        # Call the API with BaseURL + params and page\n",
    "        r = call_api(NYT_URL, payload, page)\n",
    "\n",
    "        # Increment the page before we encounter any potential errors\n",
    "        page += 1\n",
    "\n",
    "        # Check to see if the metadata didn't come back. USUALLY happens if\n",
    "        # page > 100. When it does, reset the whole thing, roll the date back\n",
    "        # one day, sleep for a couple seconds, then keep going.\n",
    "        if r.status_code != 200:\n",
    "            page = 0\n",
    "            last_date += relativedelta(days=-1)\n",
    "            print ('End Date:', get_end_date(last_date))\n",
    "            print (r.status_code )\n",
    "            time.sleep(2)\n",
    "            continue\n",
    "            \n",
    "        # Get the meta data & documents from the request\n",
    "        meta, docs = get_response(r)\n",
    "\n",
    "        # Check if docs are already in the database\n",
    "        new_docs = remove_previously_scraped(coll, docs)\n",
    "        if not new_docs: continue\n",
    "\n",
    "        # Grab only the docs that have these tags\n",
    "        docs_with_body = get_body_text(new_docs)\n",
    "\n",
    "        for doc in docs_with_body:\n",
    "            try:\n",
    "                # Insert each doc into Mongo\n",
    "                coll.insert_one(doc)\n",
    "            except:\n",
    "                # If there's any error writing it in the db, just move along.\n",
    "                print(\"couldn't write to DB\")\n",
    "                continue"
   ]
  },
  {
   "cell_type": "code",
   "execution_count": 3,
   "metadata": {
    "collapsed": true
   },
   "outputs": [],
   "source": [
    "# Url for NYT dev api\n",
    "NYT_URL = 'http://api.nytimes.com/svc/search/v2/articlesearch.json'\n",
    "api_key_path = \"NYT_API_Key.txt\""
   ]
  },
  {
   "cell_type": "code",
   "execution_count": 4,
   "metadata": {
    "collapsed": false
   },
   "outputs": [
    {
     "name": "stdout",
     "output_type": "stream",
     "text": [
      "a5b965c8a15c47539bbbbb391ff03157\n",
      "\n"
     ]
    }
   ],
   "source": [
    "with open(api_key_path, 'r') as handle:\n",
    "    API_KEY = handle.read()\n",
    "print(API_KEY)"
   ]
  },
  {
   "cell_type": "code",
   "execution_count": 5,
   "metadata": {
    "collapsed": true
   },
   "outputs": [],
   "source": [
    "# Initialize db & collection\n",
    "articles = init_mongo_client()"
   ]
  },
  {
   "cell_type": "code",
   "execution_count": 6,
   "metadata": {
    "collapsed": false
   },
   "outputs": [],
   "source": [
    "from datetime import datetime\n",
    "from dateutil.relativedelta import relativedelta\n",
    "\n",
    "# Set the initial end date (scraper starts at this date and moves back in\n",
    "# time sequentially)\n",
    "last_date = datetime.now() + relativedelta(days=-590)"
   ]
  },
  {
   "cell_type": "code",
   "execution_count": null,
   "metadata": {
    "collapsed": false
   },
   "outputs": [
    {
     "name": "stdout",
     "output_type": "stream",
     "text": [
      "a5b965c8a15c47539bbbbb391ff03157\n",
      "\n",
      "20160412\n"
     ]
    },
    {
     "name": "stderr",
     "output_type": "stream",
     "text": [
      "/usr/local/lib/python2.7/site-packages/bs4/__init__.py:181: UserWarning: No parser was explicitly specified, so I'm using the best available HTML parser for this system (\"html.parser\"). This usually isn't a problem, but if you run this code on another system, or in a different virtual environment, it may use a different parser and behave differently.\n",
      "\n",
      "The code that caused this warning is on line 162 of the file /usr/local/Cellar/python/2.7.11/Frameworks/Python.framework/Versions/2.7/lib/python2.7/runpy.py. To get rid of this warning, change code that looks like this:\n",
      "\n",
      " BeautifulSoup(YOUR_MARKUP})\n",
      "\n",
      "to this:\n",
      "\n",
      " BeautifulSoup(YOUR_MARKUP, \"html.parser\")\n",
      "\n",
      "  markup_type=markup_type))\n"
     ]
    },
    {
     "name": "stdout",
     "output_type": "stream",
     "text": [
      "https://www.nytimes.com/2016/04/12/opinion/what-states-can-do-on-birth-control.html\n",
      "https://www.nytimes.com/2016/04/12/opinion/a-home-but-not-home.html\n",
      "https://www.nytimes.com/2016/04/12/nytnow/your-tuesday-briefing-dilma-rousseff-david-cameron-zika-virus.html\n",
      "https://www.nytimes.com/2016/04/12/pageoneplus/corrections-april-12-2016.html\n",
      "https://www.nytimes.com/2016/04/12/t-magazine/mens-swimwear-lacma.html\n",
      "20160412\n",
      "https://www.nytimes.com/2016/04/12/arts/television/what-to-watch-tuesday.html\n",
      "https://www.nytimes.com/2016/04/12/business/alan-dershowitz-and-2-other-lawyers-settle-suit-and-counter-claim.html\n",
      "https://www.nytimes.com/2016/04/12/books/review/beverly-cleary-turns-100.html\n",
      "https://www.nytimes.com/2016/04/12/theater/small-mouth-sounds-returns-to-new-york.html\n",
      "https://www.nytimes.com/2016/04/12/sports/soccer/wayne-rooney-begins-his-comeback.html\n",
      "20160412\n",
      "https://www.nytimes.com/2016/04/12/t-magazine/courreges-sebastien-meyer-arnaud-vaillant-visit-pau-workshop.html\n",
      "https://www.nytimes.com/2016/04/12/opinion/refugees-in-isis-shadow.html\n",
      "https://www.nytimes.com/2016/04/12/theater/a-sky-tells-a-story-for-the-few.html\n",
      "https://www.nytimes.com/2016/04/12/t-magazine/design/salone-del-mobile-milan-studio-peregalli.html\n",
      "20160412\n",
      "https://www.nytimes.com/2016/04/12/opinion/the-permanent-temporary-solution.html\n",
      "https://www.nytimes.com/2016/04/12/nytnow/your-tuesday-evening-briefing-paul-ryan-north-carolina-equal-pay-day.html\n",
      "https://www.nytimes.com/2016/04/12/opinion/making-the-most-of-clinical-trial-data.html\n",
      "20160412\n",
      "https://www.nytimes.com/2016/04/12/opinion/tensions-at-the-syrian-border.html\n",
      "https://www.nytimes.com/2016/04/12/opinion/how-to-save-nigerias-economy-and-stop-corruption.html\n",
      "https://www.nytimes.com/2016/04/12/sports/ncaafootball/three-year-moratorium-on-new-bowl-games.html\n",
      "https://www.nytimes.com/2016/04/12/sports/tennis/gasquet-advances-at-monte-carlo.html\n",
      "https://www.nytimes.com/2016/04/12/sports/hockey/coyotes-fire-their-general-manager.html\n",
      "20160412\n",
      "('End Date:', '20160411')\n",
      "504\n",
      "20160411\n",
      "https://www.nytimes.com/2016/04/11/opinion/why-do-some-vote-against-their-best-interests.html\n",
      "https://www.nytimes.com/2016/04/11/nytnow/your-monday-evening-briefing-john-kerry-donald-trump-will-smith.html\n",
      "https://www.nytimes.com/2016/04/11/universal/ko/a-korean-noodle-dish-for-lonely-hearts-korean.html\n",
      "https://www.nytimes.com/2016/04/11/opinion/americas-place-in-the-executioners-club.html\n",
      "20160411\n",
      "https://www.nytimes.com/2016/04/11/opinion/the-persistence-of-racial-bias-and-inequality-in-america.html\n",
      "https://www.nytimes.com/2016/04/11/sports/kosuke-kitajimajapanese-star-retires.html\n",
      "https://www.nytimes.com/2016/04/11/pageoneplus/corrections.html\n",
      "https://www.nytimes.com/2016/04/11/arts/television/what-to-watch-monday.html\n",
      "https://www.nytimes.com/2016/04/11/nyregion/pilot-and-passenger-are-injured-in-plane-crash-on-long-island.html\n",
      "https://www.nytimes.com/2016/04/11/t-magazine/fashion/womenswear-fashion-brand-shushu-tong.html\n",
      "20160411\n",
      "https://www.nytimes.com/2016/04/11/technology/intuit-a-true-survivor-relocates-to-the-cloud.html\n",
      "https://www.nytimes.com/2016/04/11/science/a-big-australian-crayfish-pretty-and-endangered.html\n",
      "https://www.nytimes.com/2016/04/11/dining/cook-with-passion.html\n",
      "https://www.nytimes.com/2016/04/11/business/media/live-nation-adds-governors-ball-to-its-music-festival-lineup.html\n",
      "https://www.nytimes.com/2016/04/11/sports/cycling/matthew-hayman-of-australia-wins-in-france.html\n",
      "20160411\n",
      "https://www.nytimes.com/2016/04/11/opinion/parental-leave-policies.html\n",
      "https://www.nytimes.com/2016/04/11/nytnow/your-monday-briefing-david-cameron-masters-tournament-golden-state-warriors.html\n",
      "https://www.nytimes.com/2016/04/11/t-magazine/art/spencer-sweeney-paintings-photographs-book.html\n",
      "https://www.nytimes.com/2016/04/11/opinion/a-terrorism-threat-at-nuclear-plants.html\n",
      "https://www.nytimes.com/2016/04/11/sports/autoracing/kyle-busch-makes-second-nascar-sweep.html\n",
      "https://www.nytimes.com/2016/04/11/t-magazine/food/lune-croissanterie-melbourne-croissants.html\n",
      "20160411\n",
      "https://www.nytimes.com/2016/04/11/opinion/jobs-and-infrastructure.html\n",
      "https://www.nytimes.com/2016/04/11/opinion/republicans-hijack-an-election-agency.html\n",
      "https://www.nytimes.com/2016/04/11/sports/hockey/islanders-settle-for-the-top-wild-card-spot.html\n",
      "https://www.nytimes.com/2016/04/11/sports/golf/danny-willett-wins-masters-tournament-over-jordan-spieth.html\n",
      "https://www.nytimes.com/2016/04/11/sports/golf/danny-willett-englishman-rises-in-augusta-sun.html\n",
      "https://www.nytimes.com/2016/04/11/sports/basketball/knicks-fall-in-finale-raptors.html\n",
      "https://www.nytimes.com/2016/04/11/sports/basketball/pacers-in-and-bulls-out-as-playoff-picture-sharpens.html\n",
      "https://www.nytimes.com/2016/04/11/sports/a-scoreless-tie-for-nycfc-and-chicago.html\n",
      "20160411\n",
      "https://www.nytimes.com/2016/04/11/sports/baseball/six-games-seven-homers-trevor-story.html\n"
     ]
    }
   ],
   "source": [
    "# Pass the database collection and initial end date into main function\n",
    "scrape_articles(articles, last_date)"
   ]
  },
  {
   "cell_type": "code",
   "execution_count": null,
   "metadata": {
    "collapsed": true
   },
   "outputs": [],
   "source": []
  }
 ],
 "metadata": {
  "anaconda-cloud": {},
  "kernelspec": {
   "display_name": "Python 2",
   "language": "python",
   "name": "python2"
  },
  "language_info": {
   "codemirror_mode": {
    "name": "ipython",
    "version": 2
   },
   "file_extension": ".py",
   "mimetype": "text/x-python",
   "name": "python",
   "nbconvert_exporter": "python",
   "pygments_lexer": "ipython2",
   "version": "2.7.11"
  }
 },
 "nbformat": 4,
 "nbformat_minor": 1
}
