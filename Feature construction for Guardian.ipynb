{
 "cells": [
  {
   "cell_type": "code",
   "execution_count": 3,
   "metadata": {},
   "outputs": [
    {
     "name": "stdout",
     "output_type": "stream",
     "text": [
      "[nltk_data] Downloading package punkt to /home/ubuntu/nltk_data...\n",
      "[nltk_data]   Unzipping tokenizers/punkt.zip.\n",
      "[nltk_data] Downloading package stopwords to /home/ubuntu/nltk_data...\n",
      "[nltk_data]   Unzipping corpora/stopwords.zip.\n",
      "[nltk_data] Downloading package wordnet to /home/ubuntu/nltk_data...\n",
      "[nltk_data]   Unzipping corpora/wordnet.zip.\n"
     ]
    },
    {
     "data": {
      "text/plain": [
       "True"
      ]
     },
     "execution_count": 3,
     "metadata": {},
     "output_type": "execute_result"
    }
   ],
   "source": [
    "import nltk, os, matplotlib as mlt, sys\n",
    "from matplotlib import pyplot as plt\n",
    "import sklearn as sk, pandas as pd, numpy as np\n",
    "import re, string as str\n",
    "from nltk.corpus import stopwords\n",
    "import time\n",
    "# os.chdir(\"E:\\\\CSE 258\\\\Homework\\\\Assignment2\\\\fake-news\")\n",
    "nltk.download('punkt')\n",
    "nltk.download(\"stopwords\")\n",
    "nltk.download(\"wordnet\")"
   ]
  },
  {
   "cell_type": "code",
   "execution_count": 29,
   "metadata": {},
   "outputs": [],
   "source": [
    "df = pd.read_csv(\"GuardianUncleaned.csv\", encoding='utf-8')"
   ]
  },
  {
   "cell_type": "code",
   "execution_count": 30,
   "metadata": {},
   "outputs": [
    {
     "data": {
      "text/plain": [
       "'A post-Brexit Britain could become “highly attractive” to foreign investors put off by conditions inside the European Union, according to the head of Europe’s largest newspaper publisher. In an intervention at odds with the portrayal of Brexit by many other members of Europe’s corporate elite, Mathias Döpfner of Germany’s Axel Springer media group said that he was counting on the “pragmatism, on the free market orientation of the British people”. The chief executive of the politically conservative media group, which publishes newspapers including Germany’s largest-selling tabloid, Bild, told the Financial Times: “I very simply think that in the long run continental Europe may suffer more from the Brexit than England itself.” Döpfner’s comments come as some European leaders continued to be vocal in taking an uncompromising position on Brexit. The prime ministers of Slovakia and the Czech Republic said on Monday that Britain will be able to keep access to the European Union’s single market only if it continues to allow EU citizens to work in the UK. Speaking after a meeting in Slovak capital Bratislava, Robert Fico and Bohuslav Sobotka said they “can’t imagine” their citizens would not be treated equally. Fico said Slovakia “will fight hard” for the rights of the 70,000 or so of its citizens in Britain. Döpfner sketched out a positive future for the UK at a time when, he said, the EU was transforming itself into a transfer union with financial resources being channelled from successful economies to struggling ones. “That can put a lot of investors off,” he said, adding: “If Britain can create an alternative here, I think that is highly attractive.” He went on: “I count on the pragmatism, on the free market orientation of the British people and they will find ways to attract foreign investments and be an important business whereas in continental Europe we have a lot of issues that may be somehow not very encouraging for foreign investments and we should not take this whole Brexit decision as a reason to blame the Brits for [having] voted like that.” “We should take it more like a kind of wake-up call for Europe to refresh its political approach.” In August the publisher cut its 2016 sales guidance as a drop in the British pound caused by the result of the UK’s referendum on EU membership hit advertising revenues from Britain. Meanwhile a report in Britain on Tuesday shows that job vacancies fell last month as the impact of the EU referendum sparked a hiring lull. Jobs site Adzuna said advertised vacancies were just over 1.1m in August, 31,000 fewer than the previous month.'"
      ]
     },
     "execution_count": 30,
     "metadata": {},
     "output_type": "execute_result"
    }
   ],
   "source": [
    "df.text = df.text.str.replace(\"\\n\", \"\")\n",
    "df.text[0]"
   ]
  },
  {
   "cell_type": "code",
   "execution_count": 33,
   "metadata": {},
   "outputs": [
    {
     "data": {
      "text/plain": [
       "172.0"
      ]
     },
     "execution_count": 33,
     "metadata": {},
     "output_type": "execute_result"
    }
   ],
   "source": [
    "df['nExclams'] =  df.text.str.count(\"!\")\n",
    "# np.max(df['nExclams'])"
   ]
  },
  {
   "cell_type": "code",
   "execution_count": 39,
   "metadata": {},
   "outputs": [
    {
     "data": {
      "text/plain": [
       "647.0"
      ]
     },
     "execution_count": 39,
     "metadata": {},
     "output_type": "execute_result"
    }
   ],
   "source": [
    "df.dropna(inplace=True)\n",
    "\n",
    "def count_caps(s):\n",
    "    return np.sum([x.isupper() for x in s.split()])\n",
    "df['Capital Words'] = df.text.apply(count_caps)\n",
    "np.max(df['Capital Words'])"
   ]
  },
  {
   "cell_type": "code",
   "execution_count": 40,
   "metadata": {},
   "outputs": [],
   "source": [
    "# Tokenizing text into bags of words\n",
    "from nltk.tokenize import word_tokenize\n",
    "def tokenize_s(s):\n",
    "    if type(s) == float:\n",
    "        return word_tokenize('')\n",
    "    return word_tokenize(s)\n",
    "df.text = df.text.apply(tokenize_s)"
   ]
  },
  {
   "cell_type": "code",
   "execution_count": 55,
   "metadata": {},
   "outputs": [],
   "source": [
    "# Removing punctuation\n",
    "import re\n",
    "import string\n",
    "    \n",
    "punctuation = set(string.punctuation)\n",
    "punctuation.add(\"’\")\n",
    "punctuation.add(\"“\")\n",
    "punctuation.add(\"”\")\n",
    "\n",
    "def remove_puncs(old_s):\n",
    "    new_s = []\n",
    "    for token in old_s:\n",
    "        if not token in punctuation:\n",
    "            new_s.append(token)\n",
    "    return new_s\n",
    "\n",
    "df.text = df.text.apply(remove_puncs)"
   ]
  },
  {
   "cell_type": "code",
   "execution_count": 54,
   "metadata": {},
   "outputs": [
    {
     "data": {
      "text/plain": [
       "False"
      ]
     },
     "execution_count": 54,
     "metadata": {},
     "output_type": "execute_result"
    }
   ],
   "source": [
    "\"’\" in punctuation"
   ]
  },
  {
   "cell_type": "code",
   "execution_count": 44,
   "metadata": {},
   "outputs": [
    {
     "name": "stderr",
     "output_type": "stream",
     "text": [
      "/usr/local/lib/python3.5/dist-packages/ipykernel_launcher.py:10: SettingWithCopyWarning: \n",
      "A value is trying to be set on a copy of a slice from a DataFrame\n",
      "\n",
      "See the caveats in the documentation: http://pandas.pydata.org/pandas-docs/stable/indexing.html#indexing-view-versus-copy\n",
      "  # Remove the CWD from sys.path while we load stuff.\n"
     ]
    },
    {
     "name": "stdout",
     "output_type": "stream",
     "text": [
      "0\n",
      "500\n",
      "1000\n",
      "1500\n",
      "2000\n",
      "2500\n",
      "3000\n",
      "3500\n",
      "4000\n",
      "4500\n",
      "5000\n",
      "5500\n",
      "6000\n",
      "6500\n",
      "7000\n",
      "7500\n",
      "8000\n",
      "8500\n",
      "9000\n",
      "9500\n",
      "10000\n",
      "10500\n",
      "11000\n",
      "11500\n",
      "12000\n",
      "12500\n",
      "13000\n",
      "13500\n",
      "14000\n",
      "14500\n",
      "15000\n",
      "15500\n",
      "16000\n",
      "16500\n",
      "17000\n",
      "17500\n",
      "18000\n"
     ]
    }
   ],
   "source": [
    "# Cleaning text of stopwords\n",
    "def remove_stopwords(old_s):\n",
    "    new_s = []\n",
    "    for word in old_s:\n",
    "        if not word in stopwords.words('english'):\n",
    "            new_s.append(word)\n",
    "    return new_s\n",
    "\n",
    "for i,item in enumerate(df.text): \n",
    "    df.text[i] = remove_stopwords(item)\n",
    "    if i%500 == 0:\n",
    "        print(i)"
   ]
  },
  {
   "cell_type": "code",
   "execution_count": 45,
   "metadata": {},
   "outputs": [],
   "source": [
    "# Saving it for the future use\n",
    "df.to_csv(\"Guardian_Tokenized and stopwords removed.csv\", index = False, encoding='utf-8')"
   ]
  },
  {
   "cell_type": "code",
   "execution_count": 48,
   "metadata": {},
   "outputs": [
    {
     "name": "stderr",
     "output_type": "stream",
     "text": [
      "/usr/local/lib/python3.5/dist-packages/ipykernel_launcher.py:18: SettingWithCopyWarning: \n",
      "A value is trying to be set on a copy of a slice from a DataFrame\n",
      "\n",
      "See the caveats in the documentation: http://pandas.pydata.org/pandas-docs/stable/indexing.html#indexing-view-versus-copy\n"
     ]
    },
    {
     "name": "stdout",
     "output_type": "stream",
     "text": [
      "0 th doc processed in 0.5073263645172119 seconds from the start\n",
      "500 th doc processed in 10.662531852722168 seconds from the start\n",
      "1000 th doc processed in 17.834882974624634 seconds from the start\n",
      "1500 th doc processed in 24.436376094818115 seconds from the start\n",
      "2000 th doc processed in 32.01404666900635 seconds from the start\n",
      "2500 th doc processed in 38.49237132072449 seconds from the start\n",
      "3000 th doc processed in 45.40078353881836 seconds from the start\n",
      "3500 th doc processed in 52.27977514266968 seconds from the start\n",
      "4000 th doc processed in 59.659138202667236 seconds from the start\n",
      "4500 th doc processed in 66.36204504966736 seconds from the start\n",
      "5000 th doc processed in 73.44237923622131 seconds from the start\n",
      "5500 th doc processed in 80.176096200943 seconds from the start\n",
      "6000 th doc processed in 87.67254757881165 seconds from the start\n",
      "6500 th doc processed in 94.28708052635193 seconds from the start\n",
      "7000 th doc processed in 100.99548983573914 seconds from the start\n",
      "7500 th doc processed in 107.81344175338745 seconds from the start\n",
      "8000 th doc processed in 115.0666401386261 seconds from the start\n",
      "8500 th doc processed in 121.668128490448 seconds from the start\n",
      "9000 th doc processed in 128.40732169151306 seconds from the start\n",
      "9500 th doc processed in 135.14761638641357 seconds from the start\n",
      "10000 th doc processed in 142.33070278167725 seconds from the start\n",
      "10500 th doc processed in 149.36356616020203 seconds from the start\n",
      "11000 th doc processed in 155.8883571624756 seconds from the start\n",
      "11500 th doc processed in 162.90480661392212 seconds from the start\n",
      "12000 th doc processed in 170.41777801513672 seconds from the start\n"
     ]
    }
   ],
   "source": [
    "# Stemming and Lemmatizing\n",
    "from nltk.stem.porter import PorterStemmer\n",
    "from nltk.stem.snowball import SnowballStemmer\n",
    "from nltk.stem.wordnet import WordNetLemmatizer\n",
    "\n",
    "porter = PorterStemmer()\n",
    "snowball = SnowballStemmer('english')\n",
    "wordnet = WordNetLemmatizer()\n",
    "\n",
    "tracer = np.arange(25)*500\n",
    "start_time = time.time()\n",
    "for i,item in enumerate(df.text):\n",
    "    final_doc = []\n",
    "    for word in item:\n",
    "        word = porter.stem(word)\n",
    "        word = wordnet.lemmatize(word)\n",
    "        final_doc.append(word)\n",
    "    df.text[i] = final_doc\n",
    "    if i in tracer:\n",
    "        print(i,\"th doc processed in %s seconds from the start\"%(time.time() - start_time))"
   ]
  },
  {
   "cell_type": "code",
   "execution_count": 56,
   "metadata": {},
   "outputs": [],
   "source": [
    "# Saving it for the future use\n",
    "df.to_csv(\"Guardian_Stemmed and Lemmatized.csv\", index = False, encoding='utf-8')"
   ]
  },
  {
   "cell_type": "code",
   "execution_count": 59,
   "metadata": {},
   "outputs": [
    {
     "data": {
      "image/png": "[encoded data removed]",
      "text/plain": [
       "<matplotlib.figure.Figure at 0x7f1a796c82e8>"
      ]
     },
     "metadata": {},
     "output_type": "display_data"
    }
   ],
   "source": [
    "lengths = []\n",
    "for doc in df.text:\n",
    "    lengths.append(len(doc))\n",
    "\n",
    "x = range(len(df.text))\n",
    "plt.plot(x, lengths)\n",
    "plt.show()"
   ]
  },
  {
   "cell_type": "code",
   "execution_count": null,
   "metadata": {
    "collapsed": true
   },
   "outputs": [],
   "source": [
    "sk.feature_extraction.text.TfidfVectorizer()"
   ]
  }
 ],
 "metadata": {
  "kernelspec": {
   "display_name": "Python 3",
   "language": "python",
   "name": "python3"
  },
  "language_info": {
   "codemirror_mode": {
    "name": "ipython",
    "version": 3
   },
   "file_extension": ".py",
   "mimetype": "text/x-python",
   "name": "python",
   "nbconvert_exporter": "python",
   "pygments_lexer": "ipython3",
   "version": "3.5.2"
  }
 },
 "nbformat": 4,
 "nbformat_minor": 2
}
